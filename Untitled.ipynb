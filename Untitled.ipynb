{
 "cells": [
  {
   "cell_type": "code",
   "execution_count": 1,
   "metadata": {},
   "outputs": [],
   "source": [
    "%matplotlib inline\n",
    "import numpy as np\n",
    "import math, random\n",
    "import matplotlib.pyplot as plt"
   ]
  },
  {
   "cell_type": "code",
   "execution_count": 2,
   "metadata": {},
   "outputs": [],
   "source": [
    "old_x = np.array([0,0,0])\n",
    "u=np.array([0.1,10/180*math.pi])\n",
    "def f(old_x,u):\n",
    "    x,y,theta=old_x\n",
    "    fw,rot=u\n",
    "    x += fw*math.sin(theta)\n",
    "    y += fw*math.cos(theta)\n",
    "    theta += rot   \n",
    "    return np.array([x,y,theta])"
   ]
  },
  {
   "cell_type": "code",
   "execution_count": 10,
   "metadata": {},
   "outputs": [
    {
     "data": {
      "text/plain": [
       "array([ 0. ,  0. ,  0.1])"
      ]
     },
     "execution_count": 10,
     "metadata": {},
     "output_type": "execute_result"
    }
   ],
   "source": [
    "f(old_x,u)"
   ]
  },
  {
   "cell_type": "code",
   "execution_count": 19,
   "metadata": {},
   "outputs": [
    {
     "name": "stdout",
     "output_type": "stream",
     "text": [
      "[0 0 0]\n",
      "[ 0.          0.1         0.17453293]\n",
      "[ 0.01736482  0.19848078  0.34906585]\n",
      "[ 0.05156683  0.29245004  0.52359878]\n",
      "[ 0.10156683  0.37905258  0.6981317 ]\n",
      "[ 0.16584559  0.45565702  0.87266463]\n",
      "[ 0.24245004  0.51993578  1.04719755]\n",
      "[ 0.32905258  0.56993578  1.22173048]\n",
      "[ 0.42302184  0.6041378   1.3962634 ]\n",
      "[ 0.52150262  0.62150262  1.57079633]\n",
      "[ 0.62150262  0.62150262  1.74532925]\n"
     ]
    }
   ],
   "source": [
    "x=np.array([0,0,0])\n",
    "u = np.array([0.1,10/180*math.pi])\n",
    "print(x)\n",
    "for i in range(10):\n",
    "    x=f(x,u)\n",
    "    print(x)"
   ]
  },
  {
   "cell_type": "code",
   "execution_count": 25,
   "metadata": {},
   "outputs": [],
   "source": [
    "def f(old_x,u):\n",
    "    x,y,z=old_x\n",
    "    fw,row = u\n",
    "    fw=random.gauss(fw,fw/10)\n",
    "    dir_error = random.gauss(0,math.pi/180*3)\n",
    "    row = random.gauss(row,row/10)\n",
    "    \n",
    "    x += fw * math.cos(z + dir_error)\n",
    "    y += fw * math.sin(z + dir_error)\n",
    "    z += row\n",
    "    return np.array([x,y,z])"
   ]
  },
  {
   "cell_type": "code",
   "execution_count": 26,
   "metadata": {},
   "outputs": [
    {
     "name": "stdout",
     "output_type": "stream",
     "text": [
      "[ 0.08760235 -0.00402494  0.1774535 ]\n",
      "[ 0.1024744  -0.00217161  0.19756359]\n",
      "[ 0.10272123  0.01094242  0.17863706]\n",
      "[ 0.09070196  0.00067491  0.163975  ]\n",
      "[ 0.10856817 -0.00197116  0.19314679]\n",
      "[ 0.07729068 -0.00393981  0.16322006]\n",
      "[ 0.11079798 -0.00370848  0.1865526 ]\n",
      "[ 0.08169646  0.00154383  0.1558634 ]\n",
      "[ 0.09050164  0.01346269  0.19689966]\n",
      "[ 0.09792096  0.0001843   0.17263411]\n"
     ]
    }
   ],
   "source": [
    "x=[0,0,0]\n",
    "u=[0.1,10/180*math.pi]\n",
    "for i in range(10):\n",
    "    z=f(x,u)\n",
    "    print (z)"
   ]
  },
  {
   "cell_type": "code",
   "execution_count": null,
   "metadata": {},
   "outputs": [],
   "source": []
  }
 ],
 "metadata": {
  "kernelspec": {
   "display_name": "Python 3",
   "language": "python",
   "name": "python3"
  },
  "language_info": {
   "codemirror_mode": {
    "name": "ipython",
    "version": 3
   },
   "file_extension": ".py",
   "mimetype": "text/x-python",
   "name": "python",
   "nbconvert_exporter": "python",
   "pygments_lexer": "ipython3",
   "version": "3.5.2"
  }
 },
 "nbformat": 4,
 "nbformat_minor": 2
}
