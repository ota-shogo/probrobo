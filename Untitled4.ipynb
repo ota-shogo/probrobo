{
 "cells": [
  {
   "cell_type": "code",
   "execution_count": 2,
   "metadata": {},
   "outputs": [
    {
     "data": {
      "image/png": "[encoded data removed]",
      "text/plain": [
       "<matplotlib.figure.Figure at 0x7f984c25b4e0>"
      ]
     },
     "metadata": {},
     "output_type": "display_data"
    }
   ],
   "source": [
    "%matplotlib inline\n",
    "import numpy as np\n",
    "from copy import copy\n",
    "import math, random\n",
    "import matplotlib.pyplot as plt\n",
    "from matplotlib.patches import Ellipse\n",
    "\n",
    "actual_landmarks=[np.array([-0.5,0.0]),np.array([0.5,0.0]),np.array([0.0,0.5])]\n",
    "\n",
    "def draw_landmarks(landmarks):\n",
    "    xs = [ e[0] for e in landmarks]\n",
    "    ys = [ e[1] for e in landmarks]\n",
    "    plt.scatter(xs,ys,s=300,marker=\"*\",label=\"landmarks\",color=\"orange\")\n",
    "    \n",
    "draw_landmarks(actual_landmarks)"
   ]
  },
  {
   "cell_type": "code",
   "execution_count": 4,
   "metadata": {},
   "outputs": [
    {
     "data": {
      "image/png": "[encoded data removed]",
      "text/plain": [
       "<matplotlib.figure.Figure at 0x7f9819e09128>"
      ]
     },
     "metadata": {},
     "output_type": "display_data"
    }
   ],
   "source": [
    "actual_x = np.array([0.3,0.2,math.pi*20.0/180])\n",
    "\n",
    "def draw_robot(pose):\n",
    "    plt.quiver([pose[0]],[pose[1]],[math.cos(pose[2])],[math.sin(pose[2])],color=\"red\",label=\"actual robot motion\")\n",
    "    \n",
    "draw_robot(actual_x)\n",
    "draw_landmarks(actual_landmarks)"
   ]
  },
  {
   "cell_type": "code",
   "execution_count": 7,
   "metadata": {},
   "outputs": [],
   "source": [
    "def relative_landmark_pos(pose,landmark):\n",
    "    x,y,theta = pose\n",
    "    lx,ly = landmark\n",
    "    distance = math.sqrt((x -lx)**2 + (y-ly)**2)\n",
    "    direction = math.atan2(ly-y, lx-x) - theta\n",
    "    \n",
    "    return (distance,direction,lx,ly)"
   ]
  },
  {
   "cell_type": "code",
   "execution_count": 15,
   "metadata": {},
   "outputs": [
    {
     "name": "stdout",
     "output_type": "stream",
     "text": [
      "[(0.8246211251235323, -3.2456798408617948, -0.5, 0.0), (0.28284271247461906, -1.1344640137963142, 0.5, 0.0), (0.4242640687119285, 2.0071286397934789, 0.0, 0.5)]\n"
     ]
    }
   ],
   "source": [
    "measurements = [ relative_landmark_pos(actual_x,e) for e in actual_landmarks]\n",
    "print(measurements)"
   ]
  },
  {
   "cell_type": "code",
   "execution_count": 16,
   "metadata": {},
   "outputs": [],
   "source": [
    "\n",
    "\n",
    "def draw_observation(pose,  measurement):\n",
    "    x,y,theta = pose\n",
    "    distance, direction,lx,ly = measurement\n",
    "    lx = distance*math.cos(theta + direction) + x\n",
    "    ly = distance*math.sin(theta + direction) + y\n",
    "    plt.plot([pose[0],  lx],[pose[1],  ly],color=\"pink\")\n",
    "    \n",
    "def draw_observations(pose,  measurements):\n",
    "    for m in measurements:\n",
    "        draw_observation(pose, m)\n",
    "\n"
   ]
  },
  {
   "cell_type": "code",
   "execution_count": 17,
   "metadata": {},
   "outputs": [
    {
     "data": {
      "image/png": "[encoded data removed]",
      "text/plain": [
       "<matplotlib.figure.Figure at 0x7f9819bb7f60>"
      ]
     },
     "metadata": {},
     "output_type": "display_data"
    }
   ],
   "source": [
    "draw_landmarks(actual_landmarks)\n",
    "draw_robot(actual_x)\n",
    "draw_observations(actual_x,measurements)"
   ]
  },
  {
   "cell_type": "code",
   "execution_count": null,
   "metadata": {},
   "outputs": [],
   "source": []
  }
 ],
 "metadata": {
  "kernelspec": {
   "display_name": "Python 3",
   "language": "python",
   "name": "python3"
  },
  "language_info": {
   "codemirror_mode": {
    "name": "ipython",
    "version": 3
   },
   "file_extension": ".py",
   "mimetype": "text/x-python",
   "name": "python",
   "nbconvert_exporter": "python",
   "pygments_lexer": "ipython3",
   "version": "3.5.2"
  }
 },
 "nbformat": 4,
 "nbformat_minor": 2
}
