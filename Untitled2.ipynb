{
 "cells": [
  {
   "cell_type": "code",
   "execution_count": 2,
   "metadata": {},
   "outputs": [],
   "source": [
    "%matplotlib inline\n",
    "import numpy as np\n",
    "import math, random\n",
    "import matplotlib.pyplot as plt"
   ]
  },
  {
   "cell_type": "code",
   "execution_count": 3,
   "metadata": {},
   "outputs": [],
   "source": [
    "old_x = np.array([0,0,0])\n",
    "u = np.array([0.1,10/180*math.pi])\n",
    "def f(old_x,u):\n",
    "    x,y,z=old_x\n",
    "    act_f,act_row = u\n",
    "    ma=random.gauss(act_f,act_f/10)\n",
    "    row=random.gauss(0,3/180*math.pi)\n",
    "    z += row\n",
    "    print (ma)\n",
    "    x += ma*math.cos(z)\n",
    "    y += ma*math.sin(z)\n",
    "    row2=random.gauss(act_row,act_row*0.1)\n",
    "    z += row2\n",
    "    return np.array([x,y,z])"
   ]
  },
  {
   "cell_type": "code",
   "execution_count": 8,
   "metadata": {},
   "outputs": [
    {
     "name": "stdout",
     "output_type": "stream",
     "text": [
      "[0 0 0]\n",
      "0.100028086098\n",
      "0.0883896925742\n",
      "0.110144259822\n",
      "0.0884160525249\n",
      "0.0878469894394\n",
      "0.100743573788\n",
      "0.0877825261885\n",
      "0.108080083544\n",
      "0.100983517802\n",
      "0.097757246795\n"
     ]
    },
    {
     "data": {
      "text/plain": [
       "<matplotlib.quiver.Quiver at 0x7effaf009be0>"
      ]
     },
     "execution_count": 8,
     "metadata": {},
     "output_type": "execute_result"
    },
    {
     "data": {
      "image/png": "[encoded data removed]",
      "text/plain": [
       "<matplotlib.figure.Figure at 0x7effaf0ddb70>"
      ]
     },
     "metadata": {},
     "output_type": "display_data"
    }
   ],
   "source": [
    "now=np.array([0,0,0])\n",
    "u=np.array([0.1,10/180*math.pi])\n",
    "print(now)\n",
    "path = [now]\n",
    "for i in range(10):\n",
    "    now = f(now,u)\n",
    "    path.append(now)\n",
    "fig = plt.figure(i,figsize=(8, 8))\n",
    "sp = fig.add_subplot(111, aspect='equal')\n",
    "sp.set_xlim(-1.0,1.0)\n",
    "sp.set_ylim(-0.5,1.5)\n",
    "        \n",
    "xs = [e[0] for e in path]\n",
    "ys = [e[1] for e in path]\n",
    "vxs = [math.cos(e[2]) for e in path]\n",
    "vys = [math.sin(e[2]) for e in path]\n",
    "plt.quiver(xs,ys,vxs,vys,color=\"red\",label=\"actual robot motion\")"
   ]
  },
  {
   "cell_type": "code",
   "execution_count": null,
   "metadata": {},
   "outputs": [],
   "source": []
  },
  {
   "cell_type": "code",
   "execution_count": null,
   "metadata": {},
   "outputs": [],
   "source": []
  }
 ],
 "metadata": {
  "kernelspec": {
   "display_name": "Python 3",
   "language": "python",
   "name": "python3"
  },
  "language_info": {
   "codemirror_mode": {
    "name": "ipython",
    "version": 3
   },
   "file_extension": ".py",
   "mimetype": "text/x-python",
   "name": "python",
   "nbconvert_exporter": "python",
   "pygments_lexer": "ipython3",
   "version": "3.5.2"
  }
 },
 "nbformat": 4,
 "nbformat_minor": 2
}
